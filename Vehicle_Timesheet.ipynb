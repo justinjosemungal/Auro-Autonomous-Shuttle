{
 "cells": [
  {
   "cell_type": "code",
   "execution_count": 18,
   "metadata": {
    "collapsed": true
   },
   "outputs": [],
   "source": [
    "import pandas as pd\n",
    "from IPython.core.interactiveshell import InteractiveShell\n",
    "InteractiveShell.ast_node_interactivity = \"all\""
   ]
  },
  {
   "cell_type": "code",
   "execution_count": 19,
   "metadata": {},
   "outputs": [
    {
     "data": {
      "text/html": [
       "<div>\n",
       "<table border=\"1\" class=\"dataframe\">\n",
       "  <thead>\n",
       "    <tr style=\"text-align: right;\">\n",
       "      <th></th>\n",
       "      <th>0</th>\n",
       "      <th>1</th>\n",
       "      <th>2</th>\n",
       "      <th>3</th>\n",
       "      <th>4</th>\n",
       "      <th>5</th>\n",
       "    </tr>\n",
       "  </thead>\n",
       "  <tbody>\n",
       "    <tr>\n",
       "      <th>0</th>\n",
       "      <td>1</td>\n",
       "      <td>7</td>\n",
       "      <td>1</td>\n",
       "      <td>1</td>\n",
       "      <td>3/1/2017 9:10</td>\n",
       "      <td>3/1/2017 12:40</td>\n",
       "    </tr>\n",
       "    <tr>\n",
       "      <th>1</th>\n",
       "      <td>2</td>\n",
       "      <td>7</td>\n",
       "      <td>1</td>\n",
       "      <td>1</td>\n",
       "      <td>3/1/2017 13:20</td>\n",
       "      <td>3/1/2017 17:10</td>\n",
       "    </tr>\n",
       "    <tr>\n",
       "      <th>2</th>\n",
       "      <td>3</td>\n",
       "      <td>7</td>\n",
       "      <td>1</td>\n",
       "      <td>1</td>\n",
       "      <td>3/2/2017 9:10</td>\n",
       "      <td>3/2/2017 12:40</td>\n",
       "    </tr>\n",
       "    <tr>\n",
       "      <th>3</th>\n",
       "      <td>4</td>\n",
       "      <td>7</td>\n",
       "      <td>1</td>\n",
       "      <td>1</td>\n",
       "      <td>3/2/2017 13:20</td>\n",
       "      <td>3/2/2017 17:10</td>\n",
       "    </tr>\n",
       "    <tr>\n",
       "      <th>4</th>\n",
       "      <td>5</td>\n",
       "      <td>7</td>\n",
       "      <td>1</td>\n",
       "      <td>1</td>\n",
       "      <td>3/3/2017 9:00</td>\n",
       "      <td>3/3/2017 12:40</td>\n",
       "    </tr>\n",
       "  </tbody>\n",
       "</table>\n",
       "</div>"
      ],
      "text/plain": [
       "   0  1  2  3               4               5\n",
       "0  1  7  1  1   3/1/2017 9:10  3/1/2017 12:40\n",
       "1  2  7  1  1  3/1/2017 13:20  3/1/2017 17:10\n",
       "2  3  7  1  1   3/2/2017 9:10  3/2/2017 12:40\n",
       "3  4  7  1  1  3/2/2017 13:20  3/2/2017 17:10\n",
       "4  5  7  1  1   3/3/2017 9:00  3/3/2017 12:40"
      ]
     },
     "execution_count": 19,
     "metadata": {},
     "output_type": "execute_result"
    }
   ],
   "source": [
    "timesheet = pd.read_csv('Vehicle_Timesheet.csv', header = None, sep=',')\n",
    "timesheet.head()"
   ]
  },
  {
   "cell_type": "code",
   "execution_count": 20,
   "metadata": {},
   "outputs": [],
   "source": [
    "timesheet.columns = ['id', 'site_id', 'vehicle_id', 'driver_id', 'start_timestamp', 'end_timestamp']\n"
   ]
  },
  {
   "cell_type": "code",
   "execution_count": 21,
   "metadata": {
    "collapsed": true
   },
   "outputs": [],
   "source": [
    "timesheet.start_timestamp = pd.to_datetime(timesheet.start_timestamp)"
   ]
  },
  {
   "cell_type": "code",
   "execution_count": 22,
   "metadata": {
    "collapsed": true
   },
   "outputs": [],
   "source": [
    "timesheet.end_timestamp = pd.to_datetime(timesheet.end_timestamp)"
   ]
  },
  {
   "cell_type": "code",
   "execution_count": 25,
   "metadata": {
    "collapsed": true
   },
   "outputs": [],
   "source": [
    "temp = pd.DatetimeIndex(timesheet.start_timestamp)\n",
    "timesheet['start_date'] = temp.date\n",
    "timesheet['start_time'] = temp.time\n",
    "temp = pd.DatetimeIndex(timesheet.end_timestamp)\n",
    "timesheet['end_date'] = temp.date\n",
    "timesheet['end_time'] = temp.time"
   ]
  },
  {
   "cell_type": "code",
   "execution_count": 30,
   "metadata": {},
   "outputs": [
    {
     "data": {
      "text/html": [
       "<div>\n",
       "<table border=\"1\" class=\"dataframe\">\n",
       "  <thead>\n",
       "    <tr style=\"text-align: right;\">\n",
       "      <th></th>\n",
       "      <th>id</th>\n",
       "      <th>site_id</th>\n",
       "      <th>vehicle_id</th>\n",
       "      <th>driver_id</th>\n",
       "      <th>start_timestamp</th>\n",
       "      <th>end_timestamp</th>\n",
       "      <th>start_date</th>\n",
       "      <th>start_time</th>\n",
       "      <th>end_date</th>\n",
       "      <th>end_time</th>\n",
       "    </tr>\n",
       "  </thead>\n",
       "  <tbody>\n",
       "    <tr>\n",
       "      <th>0</th>\n",
       "      <td>1</td>\n",
       "      <td>7</td>\n",
       "      <td>1</td>\n",
       "      <td>1</td>\n",
       "      <td>2017-03-01 09:10:00</td>\n",
       "      <td>2017-03-01 12:40:00</td>\n",
       "      <td>2017-03-01</td>\n",
       "      <td>09:10:00</td>\n",
       "      <td>2017-03-01</td>\n",
       "      <td>12:40:00</td>\n",
       "    </tr>\n",
       "    <tr>\n",
       "      <th>1</th>\n",
       "      <td>2</td>\n",
       "      <td>7</td>\n",
       "      <td>1</td>\n",
       "      <td>1</td>\n",
       "      <td>2017-03-01 13:20:00</td>\n",
       "      <td>2017-03-01 17:10:00</td>\n",
       "      <td>2017-03-01</td>\n",
       "      <td>13:20:00</td>\n",
       "      <td>2017-03-01</td>\n",
       "      <td>17:10:00</td>\n",
       "    </tr>\n",
       "    <tr>\n",
       "      <th>2</th>\n",
       "      <td>3</td>\n",
       "      <td>7</td>\n",
       "      <td>1</td>\n",
       "      <td>1</td>\n",
       "      <td>2017-03-02 09:10:00</td>\n",
       "      <td>2017-03-02 12:40:00</td>\n",
       "      <td>2017-03-02</td>\n",
       "      <td>09:10:00</td>\n",
       "      <td>2017-03-02</td>\n",
       "      <td>12:40:00</td>\n",
       "    </tr>\n",
       "    <tr>\n",
       "      <th>3</th>\n",
       "      <td>4</td>\n",
       "      <td>7</td>\n",
       "      <td>1</td>\n",
       "      <td>1</td>\n",
       "      <td>2017-03-02 13:20:00</td>\n",
       "      <td>2017-03-02 17:10:00</td>\n",
       "      <td>2017-03-02</td>\n",
       "      <td>13:20:00</td>\n",
       "      <td>2017-03-02</td>\n",
       "      <td>17:10:00</td>\n",
       "    </tr>\n",
       "    <tr>\n",
       "      <th>4</th>\n",
       "      <td>5</td>\n",
       "      <td>7</td>\n",
       "      <td>1</td>\n",
       "      <td>1</td>\n",
       "      <td>2017-03-03 09:00:00</td>\n",
       "      <td>2017-03-03 12:40:00</td>\n",
       "      <td>2017-03-03</td>\n",
       "      <td>09:00:00</td>\n",
       "      <td>2017-03-03</td>\n",
       "      <td>12:40:00</td>\n",
       "    </tr>\n",
       "  </tbody>\n",
       "</table>\n",
       "</div>"
      ],
      "text/plain": [
       "   id  site_id  vehicle_id  driver_id     start_timestamp       end_timestamp  \\\n",
       "0   1        7           1          1 2017-03-01 09:10:00 2017-03-01 12:40:00   \n",
       "1   2        7           1          1 2017-03-01 13:20:00 2017-03-01 17:10:00   \n",
       "2   3        7           1          1 2017-03-02 09:10:00 2017-03-02 12:40:00   \n",
       "3   4        7           1          1 2017-03-02 13:20:00 2017-03-02 17:10:00   \n",
       "4   5        7           1          1 2017-03-03 09:00:00 2017-03-03 12:40:00   \n",
       "\n",
       "   start_date start_time    end_date  end_time  \n",
       "0  2017-03-01   09:10:00  2017-03-01  12:40:00  \n",
       "1  2017-03-01   13:20:00  2017-03-01  17:10:00  \n",
       "2  2017-03-02   09:10:00  2017-03-02  12:40:00  \n",
       "3  2017-03-02   13:20:00  2017-03-02  17:10:00  \n",
       "4  2017-03-03   09:00:00  2017-03-03  12:40:00  "
      ]
     },
     "execution_count": 30,
     "metadata": {},
     "output_type": "execute_result"
    }
   ],
   "source": [
    "timesheet.head()"
   ]
  },
  {
   "cell_type": "code",
   "execution_count": 28,
   "metadata": {},
   "outputs": [
    {
     "data": {
      "text/plain": [
       "id                 0\n",
       "site_id            0\n",
       "vehicle_id         0\n",
       "driver_id          0\n",
       "start_timestamp    0\n",
       "end_timestamp      0\n",
       "start_date         0\n",
       "start_time         0\n",
       "end_date           0\n",
       "end_time           0\n",
       "dtype: int64"
      ]
     },
     "execution_count": 28,
     "metadata": {},
     "output_type": "execute_result"
    }
   ],
   "source": [
    "timesheet.isnull().sum()"
   ]
  },
  {
   "cell_type": "code",
   "execution_count": 27,
   "metadata": {
    "collapsed": true
   },
   "outputs": [],
   "source": [
    "timesheet.to_csv('final_Vehicle_Timesheet.csv', sep=',', index = False)"
   ]
  },
  {
   "cell_type": "code",
   "execution_count": null,
   "metadata": {
    "collapsed": true
   },
   "outputs": [],
   "source": []
  }
 ],
 "metadata": {
  "kernelspec": {
   "display_name": "Python 3",
   "language": "python",
   "name": "python3"
  },
  "language_info": {
   "codemirror_mode": {
    "name": "ipython",
    "version": 3
   },
   "file_extension": ".py",
   "mimetype": "text/x-python",
   "name": "python",
   "nbconvert_exporter": "python",
   "pygments_lexer": "ipython3",
   "version": "3.6.1"
  }
 },
 "nbformat": 4,
 "nbformat_minor": 2
}
