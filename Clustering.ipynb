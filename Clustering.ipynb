{
 "cells": [
  {
   "cell_type": "code",
   "execution_count": 1,
   "metadata": {
    "collapsed": true
   },
   "outputs": [],
   "source": [
    "import pandas as pd\n",
    "from IPython.core.interactiveshell import InteractiveShell\n",
    "InteractiveShell.ast_node_interactivity = \"all\""
   ]
  },
  {
   "cell_type": "code",
   "execution_count": 2,
   "metadata": {},
   "outputs": [
    {
     "data": {
      "text/html": [
       "<div>\n",
       "<table border=\"1\" class=\"dataframe\">\n",
       "  <thead>\n",
       "    <tr style=\"text-align: right;\">\n",
       "      <th></th>\n",
       "      <th>0</th>\n",
       "      <th>1</th>\n",
       "      <th>2</th>\n",
       "      <th>3</th>\n",
       "      <th>4</th>\n",
       "      <th>5</th>\n",
       "    </tr>\n",
       "  </thead>\n",
       "  <tbody>\n",
       "    <tr>\n",
       "      <th>0</th>\n",
       "      <td>965</td>\n",
       "      <td>1</td>\n",
       "      <td>slow stop</td>\n",
       "      <td>2017-01-09 21:59:48</td>\n",
       "      <td>37.349873</td>\n",
       "      <td>-121.939789</td>\n",
       "    </tr>\n",
       "    <tr>\n",
       "      <th>1</th>\n",
       "      <td>966</td>\n",
       "      <td>0</td>\n",
       "      <td>slow stop</td>\n",
       "      <td>2017-01-09 22:00:11</td>\n",
       "      <td>37.349876</td>\n",
       "      <td>-121.939705</td>\n",
       "    </tr>\n",
       "    <tr>\n",
       "      <th>2</th>\n",
       "      <td>967</td>\n",
       "      <td>1</td>\n",
       "      <td>slow stop</td>\n",
       "      <td>2017-01-09 22:03:30</td>\n",
       "      <td>37.351093</td>\n",
       "      <td>-121.937798</td>\n",
       "    </tr>\n",
       "    <tr>\n",
       "      <th>3</th>\n",
       "      <td>968</td>\n",
       "      <td>0</td>\n",
       "      <td>slow stop</td>\n",
       "      <td>2017-01-09 22:05:01</td>\n",
       "      <td>37.350246</td>\n",
       "      <td>-121.938934</td>\n",
       "    </tr>\n",
       "    <tr>\n",
       "      <th>4</th>\n",
       "      <td>969</td>\n",
       "      <td>1</td>\n",
       "      <td>slow stop</td>\n",
       "      <td>2017-01-09 22:06:27</td>\n",
       "      <td>37.350014</td>\n",
       "      <td>-121.939453</td>\n",
       "    </tr>\n",
       "  </tbody>\n",
       "</table>\n",
       "</div>"
      ],
      "text/plain": [
       "     0  1          2                    3          4           5\n",
       "0  965  1  slow stop  2017-01-09 21:59:48  37.349873 -121.939789\n",
       "1  966  0  slow stop  2017-01-09 22:00:11  37.349876 -121.939705\n",
       "2  967  1  slow stop  2017-01-09 22:03:30  37.351093 -121.937798\n",
       "3  968  0  slow stop  2017-01-09 22:05:01  37.350246 -121.938934\n",
       "4  969  1  slow stop  2017-01-09 22:06:27  37.350014 -121.939453"
      ]
     },
     "execution_count": 2,
     "metadata": {},
     "output_type": "execute_result"
    }
   ],
   "source": [
    "intervention= pd.read_csv('intervention.csv', header = None, sep=',')\n",
    "intervention.head()"
   ]
  },
  {
   "cell_type": "code",
   "execution_count": 3,
   "metadata": {},
   "outputs": [
    {
     "data": {
      "text/html": [
       "<div>\n",
       "<table border=\"1\" class=\"dataframe\">\n",
       "  <thead>\n",
       "    <tr style=\"text-align: right;\">\n",
       "      <th></th>\n",
       "      <th>Id</th>\n",
       "      <th>category_id</th>\n",
       "      <th>description</th>\n",
       "      <th>incident_time</th>\n",
       "      <th>latitude</th>\n",
       "      <th>longitude</th>\n",
       "    </tr>\n",
       "  </thead>\n",
       "  <tbody>\n",
       "    <tr>\n",
       "      <th>0</th>\n",
       "      <td>965</td>\n",
       "      <td>1</td>\n",
       "      <td>slow stop</td>\n",
       "      <td>2017-01-09 21:59:48</td>\n",
       "      <td>37.349873</td>\n",
       "      <td>-121.939789</td>\n",
       "    </tr>\n",
       "    <tr>\n",
       "      <th>1</th>\n",
       "      <td>966</td>\n",
       "      <td>0</td>\n",
       "      <td>slow stop</td>\n",
       "      <td>2017-01-09 22:00:11</td>\n",
       "      <td>37.349876</td>\n",
       "      <td>-121.939705</td>\n",
       "    </tr>\n",
       "    <tr>\n",
       "      <th>2</th>\n",
       "      <td>967</td>\n",
       "      <td>1</td>\n",
       "      <td>slow stop</td>\n",
       "      <td>2017-01-09 22:03:30</td>\n",
       "      <td>37.351093</td>\n",
       "      <td>-121.937798</td>\n",
       "    </tr>\n",
       "    <tr>\n",
       "      <th>3</th>\n",
       "      <td>968</td>\n",
       "      <td>0</td>\n",
       "      <td>slow stop</td>\n",
       "      <td>2017-01-09 22:05:01</td>\n",
       "      <td>37.350246</td>\n",
       "      <td>-121.938934</td>\n",
       "    </tr>\n",
       "    <tr>\n",
       "      <th>4</th>\n",
       "      <td>969</td>\n",
       "      <td>1</td>\n",
       "      <td>slow stop</td>\n",
       "      <td>2017-01-09 22:06:27</td>\n",
       "      <td>37.350014</td>\n",
       "      <td>-121.939453</td>\n",
       "    </tr>\n",
       "  </tbody>\n",
       "</table>\n",
       "</div>"
      ],
      "text/plain": [
       "    Id  category_id description        incident_time   latitude   longitude\n",
       "0  965            1   slow stop  2017-01-09 21:59:48  37.349873 -121.939789\n",
       "1  966            0   slow stop  2017-01-09 22:00:11  37.349876 -121.939705\n",
       "2  967            1   slow stop  2017-01-09 22:03:30  37.351093 -121.937798\n",
       "3  968            0   slow stop  2017-01-09 22:05:01  37.350246 -121.938934\n",
       "4  969            1   slow stop  2017-01-09 22:06:27  37.350014 -121.939453"
      ]
     },
     "execution_count": 3,
     "metadata": {},
     "output_type": "execute_result"
    }
   ],
   "source": [
    "intervention.columns = ['Id','category_id','description','incident_time','latitude','longitude']\n",
    "intervention.head()"
   ]
  },
  {
   "cell_type": "code",
   "execution_count": 4,
   "metadata": {
    "collapsed": true
   },
   "outputs": [],
   "source": [
    "intervention.incident_time= pd.to_datetime(intervention.incident_time)"
   ]
  },
  {
   "cell_type": "code",
   "execution_count": 5,
   "metadata": {
    "collapsed": true
   },
   "outputs": [],
   "source": [
    "temp = pd.DatetimeIndex(intervention.incident_time)\n",
    "intervention['incident_date'] = temp.date\n",
    "intervention['incident_time'] = temp.time"
   ]
  },
  {
   "cell_type": "code",
   "execution_count": 6,
   "metadata": {},
   "outputs": [
    {
     "data": {
      "text/plain": [
       "Id               0\n",
       "category_id      0\n",
       "description      0\n",
       "incident_time    0\n",
       "latitude         0\n",
       "longitude        0\n",
       "incident_date    0\n",
       "dtype: int64"
      ]
     },
     "execution_count": 6,
     "metadata": {},
     "output_type": "execute_result"
    }
   ],
   "source": [
    "intervention.isnull().sum()"
   ]
  },
  {
   "cell_type": "code",
   "execution_count": 7,
   "metadata": {},
   "outputs": [
    {
     "data": {
      "text/html": [
       "<div>\n",
       "<table border=\"1\" class=\"dataframe\">\n",
       "  <thead>\n",
       "    <tr style=\"text-align: right;\">\n",
       "      <th></th>\n",
       "      <th>Id</th>\n",
       "      <th>category_id</th>\n",
       "      <th>description</th>\n",
       "      <th>incident_time</th>\n",
       "      <th>latitude</th>\n",
       "      <th>longitude</th>\n",
       "      <th>incident_date</th>\n",
       "    </tr>\n",
       "  </thead>\n",
       "  <tbody>\n",
       "    <tr>\n",
       "      <th>0</th>\n",
       "      <td>965</td>\n",
       "      <td>1</td>\n",
       "      <td>slow stop</td>\n",
       "      <td>21:59:48</td>\n",
       "      <td>37.349873</td>\n",
       "      <td>-121.939789</td>\n",
       "      <td>2017-01-09</td>\n",
       "    </tr>\n",
       "    <tr>\n",
       "      <th>1</th>\n",
       "      <td>966</td>\n",
       "      <td>0</td>\n",
       "      <td>slow stop</td>\n",
       "      <td>22:00:11</td>\n",
       "      <td>37.349876</td>\n",
       "      <td>-121.939705</td>\n",
       "      <td>2017-01-09</td>\n",
       "    </tr>\n",
       "    <tr>\n",
       "      <th>2</th>\n",
       "      <td>967</td>\n",
       "      <td>1</td>\n",
       "      <td>slow stop</td>\n",
       "      <td>22:03:30</td>\n",
       "      <td>37.351093</td>\n",
       "      <td>-121.937798</td>\n",
       "      <td>2017-01-09</td>\n",
       "    </tr>\n",
       "    <tr>\n",
       "      <th>3</th>\n",
       "      <td>968</td>\n",
       "      <td>0</td>\n",
       "      <td>slow stop</td>\n",
       "      <td>22:05:01</td>\n",
       "      <td>37.350246</td>\n",
       "      <td>-121.938934</td>\n",
       "      <td>2017-01-09</td>\n",
       "    </tr>\n",
       "    <tr>\n",
       "      <th>4</th>\n",
       "      <td>969</td>\n",
       "      <td>1</td>\n",
       "      <td>slow stop</td>\n",
       "      <td>22:06:27</td>\n",
       "      <td>37.350014</td>\n",
       "      <td>-121.939453</td>\n",
       "      <td>2017-01-09</td>\n",
       "    </tr>\n",
       "  </tbody>\n",
       "</table>\n",
       "</div>"
      ],
      "text/plain": [
       "    Id  category_id description incident_time   latitude   longitude  \\\n",
       "0  965            1   slow stop      21:59:48  37.349873 -121.939789   \n",
       "1  966            0   slow stop      22:00:11  37.349876 -121.939705   \n",
       "2  967            1   slow stop      22:03:30  37.351093 -121.937798   \n",
       "3  968            0   slow stop      22:05:01  37.350246 -121.938934   \n",
       "4  969            1   slow stop      22:06:27  37.350014 -121.939453   \n",
       "\n",
       "  incident_date  \n",
       "0    2017-01-09  \n",
       "1    2017-01-09  \n",
       "2    2017-01-09  \n",
       "3    2017-01-09  \n",
       "4    2017-01-09  "
      ]
     },
     "execution_count": 7,
     "metadata": {},
     "output_type": "execute_result"
    }
   ],
   "source": [
    "intervention.head()"
   ]
  },
  {
   "cell_type": "code",
   "execution_count": 8,
   "metadata": {},
   "outputs": [
    {
     "data": {
      "text/html": [
       "<div>\n",
       "<table border=\"1\" class=\"dataframe\">\n",
       "  <thead>\n",
       "    <tr style=\"text-align: right;\">\n",
       "      <th></th>\n",
       "      <th>0</th>\n",
       "    </tr>\n",
       "  </thead>\n",
       "  <tbody>\n",
       "    <tr>\n",
       "      <th>0</th>\n",
       "      <td>-121.951904</td>\n",
       "    </tr>\n",
       "    <tr>\n",
       "      <th>1</th>\n",
       "      <td>-121.941742</td>\n",
       "    </tr>\n",
       "    <tr>\n",
       "      <th>2</th>\n",
       "      <td>-121.941734</td>\n",
       "    </tr>\n",
       "    <tr>\n",
       "      <th>3</th>\n",
       "      <td>-121.941734</td>\n",
       "    </tr>\n",
       "    <tr>\n",
       "      <th>4</th>\n",
       "      <td>-121.941734</td>\n",
       "    </tr>\n",
       "  </tbody>\n",
       "</table>\n",
       "</div>"
      ],
      "text/plain": [
       "            0\n",
       "0 -121.951904\n",
       "1 -121.941742\n",
       "2 -121.941734\n",
       "3 -121.941734\n",
       "4 -121.941734"
      ]
     },
     "execution_count": 8,
     "metadata": {},
     "output_type": "execute_result"
    },
    {
     "data": {
      "text/html": [
       "<div>\n",
       "<table border=\"1\" class=\"dataframe\">\n",
       "  <thead>\n",
       "    <tr style=\"text-align: right;\">\n",
       "      <th></th>\n",
       "      <th>0</th>\n",
       "    </tr>\n",
       "  </thead>\n",
       "  <tbody>\n",
       "    <tr>\n",
       "      <th>5978</th>\n",
       "      <td>-121.934692</td>\n",
       "    </tr>\n",
       "    <tr>\n",
       "      <th>5979</th>\n",
       "      <td>-121.934616</td>\n",
       "    </tr>\n",
       "    <tr>\n",
       "      <th>5980</th>\n",
       "      <td>0.000000</td>\n",
       "    </tr>\n",
       "    <tr>\n",
       "      <th>5981</th>\n",
       "      <td>0.000000</td>\n",
       "    </tr>\n",
       "    <tr>\n",
       "      <th>5982</th>\n",
       "      <td>0.000000</td>\n",
       "    </tr>\n",
       "  </tbody>\n",
       "</table>\n",
       "</div>"
      ],
      "text/plain": [
       "               0\n",
       "5978 -121.934692\n",
       "5979 -121.934616\n",
       "5980    0.000000\n",
       "5981    0.000000\n",
       "5982    0.000000"
      ]
     },
     "execution_count": 8,
     "metadata": {},
     "output_type": "execute_result"
    },
    {
     "data": {
      "text/html": [
       "<div>\n",
       "<table border=\"1\" class=\"dataframe\">\n",
       "  <thead>\n",
       "    <tr style=\"text-align: right;\">\n",
       "      <th></th>\n",
       "      <th>0</th>\n",
       "    </tr>\n",
       "  </thead>\n",
       "  <tbody>\n",
       "    <tr>\n",
       "      <th>0</th>\n",
       "      <td>0.000000</td>\n",
       "    </tr>\n",
       "    <tr>\n",
       "      <th>1</th>\n",
       "      <td>0.000000</td>\n",
       "    </tr>\n",
       "    <tr>\n",
       "      <th>2</th>\n",
       "      <td>0.000000</td>\n",
       "    </tr>\n",
       "    <tr>\n",
       "      <th>3</th>\n",
       "      <td>37.343296</td>\n",
       "    </tr>\n",
       "    <tr>\n",
       "      <th>4</th>\n",
       "      <td>37.348297</td>\n",
       "    </tr>\n",
       "  </tbody>\n",
       "</table>\n",
       "</div>"
      ],
      "text/plain": [
       "           0\n",
       "0   0.000000\n",
       "1   0.000000\n",
       "2   0.000000\n",
       "3  37.343296\n",
       "4  37.348297"
      ]
     },
     "execution_count": 8,
     "metadata": {},
     "output_type": "execute_result"
    },
    {
     "data": {
      "text/html": [
       "<div>\n",
       "<table border=\"1\" class=\"dataframe\">\n",
       "  <thead>\n",
       "    <tr style=\"text-align: right;\">\n",
       "      <th></th>\n",
       "      <th>0</th>\n",
       "    </tr>\n",
       "  </thead>\n",
       "  <tbody>\n",
       "    <tr>\n",
       "      <th>5978</th>\n",
       "      <td>37.351128</td>\n",
       "    </tr>\n",
       "    <tr>\n",
       "      <th>5979</th>\n",
       "      <td>37.351131</td>\n",
       "    </tr>\n",
       "    <tr>\n",
       "      <th>5980</th>\n",
       "      <td>37.351131</td>\n",
       "    </tr>\n",
       "    <tr>\n",
       "      <th>5981</th>\n",
       "      <td>37.351131</td>\n",
       "    </tr>\n",
       "    <tr>\n",
       "      <th>5982</th>\n",
       "      <td>37.351219</td>\n",
       "    </tr>\n",
       "  </tbody>\n",
       "</table>\n",
       "</div>"
      ],
      "text/plain": [
       "              0\n",
       "5978  37.351128\n",
       "5979  37.351131\n",
       "5980  37.351131\n",
       "5981  37.351131\n",
       "5982  37.351219"
      ]
     },
     "execution_count": 8,
     "metadata": {},
     "output_type": "execute_result"
    }
   ],
   "source": [
    "long_list = list(intervention.longitude)\n",
    "lat_list = list(intervention.latitude)\n",
    "long_list.sort()\n",
    "lat_list.sort()\n",
    "dfLong = pd.DataFrame(long_list)\n",
    "dfLong.head()\n",
    "dfLong.tail()\n",
    "dfLat = pd.DataFrame(lat_list)\n",
    "dfLat.head()\n",
    "dfLat.tail()"
   ]
  },
  {
   "cell_type": "code",
   "execution_count": 50,
   "metadata": {
    "scrolled": true
   },
   "outputs": [],
   "source": [
    "#coordinate[y, x]\n",
    "top_left = [37.351128,-121.951904]\n",
    "top_right= [37.351128, -121.934616]\n",
    "bottom_left =[37.343296, -121.951904]\n",
    "bottom_right = [37.343296, -121.934616]\n",
    "\n",
    "\n",
    "n = 25\n",
    "\n",
    "length = top_right[1] - top_left[1]\n",
    "width = top_left[0] - bottom_left[0]\n",
    "\n",
    "len_array = [top_left[1]]\n",
    "wid_array = [bottom_left[0]]\n",
    "\n",
    "group = []\n",
    "for i in range(1, n + 1):\n",
    "    len_array.append(len_array[i - 1] + length/n)\n",
    "    wid_array.append(wid_array[i - 1] + length/n)\n",
    "\n",
    "\n",
    "for x in range(0, intervention.shape[0]):\n",
    "    a = b = 0\n",
    "    if(intervention.longitude[x] != 0):\n",
    "        for i in range(1, n + 1):\n",
    "            a += 1\n",
    "            for j in range(1, n + 1):\n",
    "                b += 1\n",
    "                if(intervention.longitude[x] >= len_array[i - 1] and intervention.longitude[x] <= len_array[i] and intervention.latitude[x] >= wid_array[j - 1] and intervention.latitude[x] <= wid_array[j]):\n",
    "                    group.append(a + b - 1)\n",
    "                   \n",
    "    else:\n",
    "        group.append(None)\n",
    "\n",
    "intervention['Location Group'] = group\n",
    "    \n",
    "           \n",
    "\n",
    "\n",
    "\n"
   ]
  },
  {
   "cell_type": "code",
   "execution_count": 55,
   "metadata": {},
   "outputs": [
    {
     "ename": "TypeError",
     "evalue": "'<' not supported between instances of 'NoneType' and 'int'",
     "output_type": "error",
     "traceback": [
      "\u001b[1;31m---------------------------------------------------------------------------\u001b[0m",
      "\u001b[1;31mTypeError\u001b[0m                                 Traceback (most recent call last)",
      "\u001b[1;32m<ipython-input-55-ed1dc872d6bf>\u001b[0m in \u001b[0;36m<module>\u001b[1;34m()\u001b[0m\n\u001b[1;32m----> 1\u001b[1;33m \u001b[0mgroup\u001b[0m\u001b[1;33m.\u001b[0m\u001b[0msort\u001b[0m\u001b[1;33m(\u001b[0m\u001b[1;33m)\u001b[0m\u001b[1;33m\u001b[0m\u001b[0m\n\u001b[0m\u001b[0;32m      2\u001b[0m \u001b[1;32mfor\u001b[0m \u001b[0mk\u001b[0m\u001b[1;33m,\u001b[0m \u001b[0mg\u001b[0m \u001b[1;32min\u001b[0m \u001b[0mitertools\u001b[0m\u001b[1;33m.\u001b[0m\u001b[0mgroupby\u001b[0m\u001b[1;33m(\u001b[0m\u001b[0mgroup\u001b[0m\u001b[1;33m,\u001b[0m \u001b[0mkey\u001b[0m\u001b[1;33m=\u001b[0m\u001b[1;32mlambda\u001b[0m \u001b[0mn\u001b[0m\u001b[1;33m:\u001b[0m \u001b[0mn\u001b[0m\u001b[1;33m//\u001b[0m\u001b[1;36m50\u001b[0m\u001b[1;33m)\u001b[0m\u001b[1;33m:\u001b[0m\u001b[1;33m\u001b[0m\u001b[0m\n\u001b[0;32m      3\u001b[0m     \u001b[0mprint\u001b[0m \u001b[1;33m(\u001b[0m\u001b[0mk\u001b[0m\u001b[1;33m,\u001b[0m \u001b[0mlist\u001b[0m\u001b[1;33m(\u001b[0m\u001b[0mg\u001b[0m\u001b[1;33m)\u001b[0m\u001b[1;33m)\u001b[0m\u001b[1;33m\u001b[0m\u001b[0m\n",
      "\u001b[1;31mTypeError\u001b[0m: '<' not supported between instances of 'NoneType' and 'int'"
     ]
    }
   ],
   "source": [
    "group.sort()\n",
    "for k, g in itertools.groupby(group, key=lambda n: n//50):\n",
    "    print (k, list(g))"
   ]
  },
  {
   "cell_type": "code",
   "execution_count": 51,
   "metadata": {
    "collapsed": true
   },
   "outputs": [],
   "source": [
    "intervention.to_csv('final_intervention.csv', sep=',', index = False)"
   ]
  },
  {
   "cell_type": "code",
   "execution_count": null,
   "metadata": {
    "collapsed": true
   },
   "outputs": [],
   "source": []
  }
 ],
 "metadata": {
  "kernelspec": {
   "display_name": "Python 3",
   "language": "python",
   "name": "python3"
  },
  "language_info": {
   "codemirror_mode": {
    "name": "ipython",
    "version": 3
   },
   "file_extension": ".py",
   "mimetype": "text/x-python",
   "name": "python",
   "nbconvert_exporter": "python",
   "pygments_lexer": "ipython3",
   "version": "3.6.1"
  }
 },
 "nbformat": 4,
 "nbformat_minor": 2
}
